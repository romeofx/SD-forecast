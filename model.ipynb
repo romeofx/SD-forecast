{
 "cells": [
  {
   "cell_type": "code",
   "execution_count": 2,
   "id": "6c8b22c5-1b7b-4d9f-8080-339277f28874",
   "metadata": {},
   "outputs": [],
   "source": [
    "import requests\n",
    "import pandas as pd\n",
    "import numpy as np\n",
    "import matplotlib.pyplot as plt\n",
    "import seaborn as sns\n",
    "import joblib\n",
    "# import pickle  # optional\n",
    "from prophet import Prophet\n",
    "from sklearn.model_selection import train_test_split\n",
    "# from sklearn.linear_model import LinearRegression  # optional\n",
    "from sklearn.ensemble import RandomForestRegressor\n",
    "from sklearn.metrics import mean_absolute_error, mean_squared_error, r2_score\n",
    "from statsmodels.tsa.arima.model import ARIMA\n",
    "import warnings\n",
    "warnings.filterwarnings('ignore')"
   ]
  },
  {
   "cell_type": "markdown",
   "id": "bd48a717-338a-43a3-8b5c-8450e12ad256",
   "metadata": {},
   "source": [
    "### Load dataset"
   ]
  },
  {
   "cell_type": "code",
   "execution_count": 3,
   "id": "e5feaec7-9ffe-484a-8379-49ce6de9cbf5",
   "metadata": {},
   "outputs": [
    {
     "data": {
      "text/html": [
       "<div>\n",
       "<style scoped>\n",
       "    .dataframe tbody tr th:only-of-type {\n",
       "        vertical-align: middle;\n",
       "    }\n",
       "\n",
       "    .dataframe tbody tr th {\n",
       "        vertical-align: top;\n",
       "    }\n",
       "\n",
       "    .dataframe thead th {\n",
       "        text-align: right;\n",
       "    }\n",
       "</style>\n",
       "<table border=\"1\" class=\"dataframe\">\n",
       "  <thead>\n",
       "    <tr style=\"text-align: right;\">\n",
       "      <th></th>\n",
       "      <th></th>\n",
       "      <th></th>\n",
       "      <th>Unnamed: 0</th>\n",
       "      <th>Unnamed: 1</th>\n",
       "      <th>Unnamed: 2</th>\n",
       "      <th>Unnamed: 3</th>\n",
       "      <th>Unnamed: 4</th>\n",
       "      <th>Unnamed: 5</th>\n",
       "      <th>2014</th>\n",
       "      <th>2015</th>\n",
       "      <th>2016</th>\n",
       "      <th>2017</th>\n",
       "      <th>2018</th>\n",
       "      <th>2019</th>\n",
       "      <th>2020</th>\n",
       "      <th>2021</th>\n",
       "      <th>2022</th>\n",
       "      <th>2023</th>\n",
       "      <th>2024</th>\n",
       "      <th>Unnamed: 17</th>\n",
       "      <th>Unnamed: 18</th>\n",
       "    </tr>\n",
       "  </thead>\n",
       "  <tbody>\n",
       "    <tr>\n",
       "      <th>NaN</th>\n",
       "      <th>U.S. State</th>\n",
       "      <th>NaN</th>\n",
       "      <td>Partner</td>\n",
       "      <td>NaN</td>\n",
       "      <td>Product</td>\n",
       "      <td>Value</td>\n",
       "      <td>Value</td>\n",
       "      <td>Value</td>\n",
       "      <td>Value</td>\n",
       "      <td>Value</td>\n",
       "      <td>Value</td>\n",
       "      <td>Value</td>\n",
       "      <td>Value</td>\n",
       "      <td>Value</td>\n",
       "      <td>Value</td>\n",
       "      <td>Value</td>\n",
       "      <td>Period/Period %  Change (Value)</td>\n",
       "      <td>Reporter Code</td>\n",
       "      <td>Partner Code</td>\n",
       "      <td>Product Code</td>\n",
       "      <td>NaN</td>\n",
       "    </tr>\n",
       "    <tr>\n",
       "      <th rowspan=\"4\" valign=\"top\">1.0</th>\n",
       "      <th rowspan=\"4\" valign=\"top\">South Dakota</th>\n",
       "      <th>1.0</th>\n",
       "      <td>Mexico</td>\n",
       "      <td>1.0</td>\n",
       "      <td>Pork &amp; Pork Products</td>\n",
       "      <td>98,241</td>\n",
       "      <td>69,046</td>\n",
       "      <td>87,996</td>\n",
       "      <td>90,277</td>\n",
       "      <td>49,591</td>\n",
       "      <td>37,814</td>\n",
       "      <td>45,648</td>\n",
       "      <td>116,982</td>\n",
       "      <td>201,825</td>\n",
       "      <td>155,258</td>\n",
       "      <td>85,610</td>\n",
       "      <td>-45</td>\n",
       "      <td>SD</td>\n",
       "      <td>MX</td>\n",
       "      <td>0210AT</td>\n",
       "      <td>NaN</td>\n",
       "    </tr>\n",
       "    <tr>\n",
       "      <th>1.0</th>\n",
       "      <td>Mexico</td>\n",
       "      <td>2.0</td>\n",
       "      <td>Soybeans</td>\n",
       "      <td>27,692</td>\n",
       "      <td>19,720</td>\n",
       "      <td>0</td>\n",
       "      <td>4,996</td>\n",
       "      <td>39,686</td>\n",
       "      <td>33,673</td>\n",
       "      <td>61,917</td>\n",
       "      <td>13,040</td>\n",
       "      <td>38,134</td>\n",
       "      <td>63,784</td>\n",
       "      <td>66,733</td>\n",
       "      <td>5</td>\n",
       "      <td>SD</td>\n",
       "      <td>MX</td>\n",
       "      <td>0035AT</td>\n",
       "      <td>NaN</td>\n",
       "    </tr>\n",
       "    <tr>\n",
       "      <th>1.0</th>\n",
       "      <td>Mexico</td>\n",
       "      <td>3.0</td>\n",
       "      <td>Beef &amp; Beef Products</td>\n",
       "      <td>36,842</td>\n",
       "      <td>30,714</td>\n",
       "      <td>28,830</td>\n",
       "      <td>38,108</td>\n",
       "      <td>42,018</td>\n",
       "      <td>40,945</td>\n",
       "      <td>40,581</td>\n",
       "      <td>40,806</td>\n",
       "      <td>39,341</td>\n",
       "      <td>47,683</td>\n",
       "      <td>31,207</td>\n",
       "      <td>-35</td>\n",
       "      <td>SD</td>\n",
       "      <td>MX</td>\n",
       "      <td>0205AT</td>\n",
       "      <td>NaN</td>\n",
       "    </tr>\n",
       "    <tr>\n",
       "      <th>1.0</th>\n",
       "      <td>Mexico</td>\n",
       "      <td>4.0</td>\n",
       "      <td>Corn</td>\n",
       "      <td>0</td>\n",
       "      <td>6,205</td>\n",
       "      <td>6,747</td>\n",
       "      <td>13,822</td>\n",
       "      <td>2,327</td>\n",
       "      <td>4,065</td>\n",
       "      <td>113</td>\n",
       "      <td>9,495</td>\n",
       "      <td>10,578</td>\n",
       "      <td>16,390</td>\n",
       "      <td>26,468</td>\n",
       "      <td>61</td>\n",
       "      <td>SD</td>\n",
       "      <td>MX</td>\n",
       "      <td>0020AT</td>\n",
       "      <td>NaN</td>\n",
       "    </tr>\n",
       "  </tbody>\n",
       "</table>\n",
       "</div>"
      ],
      "text/plain": [
       "                      Unnamed: 0  Unnamed: 1            Unnamed: 2 Unnamed: 3  \\\n",
       "NaN U.S. State   NaN     Partner         NaN               Product      Value   \n",
       "1.0 South Dakota 1.0      Mexico         1.0  Pork & Pork Products     98,241   \n",
       "                 1.0      Mexico         2.0              Soybeans     27,692   \n",
       "                 1.0      Mexico         3.0  Beef & Beef Products     36,842   \n",
       "                 1.0      Mexico         4.0                  Corn          0   \n",
       "\n",
       "                      Unnamed: 4 Unnamed: 5    2014    2015    2016    2017  \\\n",
       "NaN U.S. State   NaN       Value      Value   Value   Value   Value   Value   \n",
       "1.0 South Dakota 1.0      69,046     87,996  90,277  49,591  37,814  45,648   \n",
       "                 1.0      19,720          0   4,996  39,686  33,673  61,917   \n",
       "                 1.0      30,714     28,830  38,108  42,018  40,945  40,581   \n",
       "                 1.0       6,205      6,747  13,822   2,327   4,065     113   \n",
       "\n",
       "                          2018     2019     2020    2021  \\\n",
       "NaN U.S. State   NaN     Value    Value    Value   Value   \n",
       "1.0 South Dakota 1.0   116,982  201,825  155,258  85,610   \n",
       "                 1.0    13,040   38,134   63,784  66,733   \n",
       "                 1.0    40,806   39,341   47,683  31,207   \n",
       "                 1.0     9,495   10,578   16,390  26,468   \n",
       "\n",
       "                                                  2022           2023  \\\n",
       "NaN U.S. State   NaN   Period/Period %  Change (Value)  Reporter Code   \n",
       "1.0 South Dakota 1.0                               -45             SD   \n",
       "                 1.0                                 5             SD   \n",
       "                 1.0                               -35             SD   \n",
       "                 1.0                                61             SD   \n",
       "\n",
       "                               2024   Unnamed: 17  Unnamed: 18  \n",
       "NaN U.S. State   NaN   Partner Code  Product Code          NaN  \n",
       "1.0 South Dakota 1.0             MX        0210AT          NaN  \n",
       "                 1.0             MX        0035AT          NaN  \n",
       "                 1.0             MX        0205AT          NaN  \n",
       "                 1.0             MX        0020AT          NaN  "
      ]
     },
     "execution_count": 3,
     "metadata": {},
     "output_type": "execute_result"
    }
   ],
   "source": [
    "df = pd.read_csv('exports_all_countries.csv')\n",
    "df.head()"
   ]
  },
  {
   "cell_type": "markdown",
   "id": "0fd665ee-3cc7-4959-b39c-0d1f0e2e8099",
   "metadata": {},
   "source": [
    "### Data Cleaning"
   ]
  },
  {
   "cell_type": "code",
   "execution_count": 4,
   "id": "6c6e9e08-d468-47b4-8132-262f2e508d4f",
   "metadata": {},
   "outputs": [],
   "source": [
    "#let's reload data and skip the first conlumn\n",
    "df = pd.read_csv('exports_all_countries.csv', skiprows=1)\n",
    "\n",
    "# Drop all unnamed columns that are entirely NaN\n",
    "df = df.dropna(axis=1, how='all')"
   ]
  },
  {
   "cell_type": "code",
   "execution_count": 5,
   "id": "6134410a-8ea0-4d46-9463-dcfb8f789d67",
   "metadata": {
    "scrolled": true
   },
   "outputs": [
    {
     "data": {
      "text/html": [
       "<div>\n",
       "<style scoped>\n",
       "    .dataframe tbody tr th:only-of-type {\n",
       "        vertical-align: middle;\n",
       "    }\n",
       "\n",
       "    .dataframe tbody tr th {\n",
       "        vertical-align: top;\n",
       "    }\n",
       "\n",
       "    .dataframe thead th {\n",
       "        text-align: right;\n",
       "    }\n",
       "</style>\n",
       "<table border=\"1\" class=\"dataframe\">\n",
       "  <thead>\n",
       "    <tr style=\"text-align: right;\">\n",
       "      <th></th>\n",
       "      <th>Unnamed: 0</th>\n",
       "      <th>U.S. State</th>\n",
       "      <th>Unnamed: 2</th>\n",
       "      <th>Partner</th>\n",
       "      <th>Unnamed: 4</th>\n",
       "      <th>Product</th>\n",
       "      <th>Value</th>\n",
       "      <th>Value.1</th>\n",
       "      <th>Value.2</th>\n",
       "      <th>Value.3</th>\n",
       "      <th>...</th>\n",
       "      <th>Value.5</th>\n",
       "      <th>Value.6</th>\n",
       "      <th>Value.7</th>\n",
       "      <th>Value.8</th>\n",
       "      <th>Value.9</th>\n",
       "      <th>Value.10</th>\n",
       "      <th>Period/Period %  Change (Value)</th>\n",
       "      <th>Reporter Code</th>\n",
       "      <th>Partner Code</th>\n",
       "      <th>Product Code</th>\n",
       "    </tr>\n",
       "  </thead>\n",
       "  <tbody>\n",
       "    <tr>\n",
       "      <th>0</th>\n",
       "      <td>1.0</td>\n",
       "      <td>South Dakota</td>\n",
       "      <td>1.0</td>\n",
       "      <td>Mexico</td>\n",
       "      <td>1.0</td>\n",
       "      <td>Pork &amp; Pork Products</td>\n",
       "      <td>98,241</td>\n",
       "      <td>69,046</td>\n",
       "      <td>87,996</td>\n",
       "      <td>90,277</td>\n",
       "      <td>...</td>\n",
       "      <td>37,814</td>\n",
       "      <td>45,648</td>\n",
       "      <td>116,982</td>\n",
       "      <td>201,825</td>\n",
       "      <td>155,258</td>\n",
       "      <td>85,610</td>\n",
       "      <td>-45</td>\n",
       "      <td>SD</td>\n",
       "      <td>MX</td>\n",
       "      <td>0210AT</td>\n",
       "    </tr>\n",
       "    <tr>\n",
       "      <th>1</th>\n",
       "      <td>1.0</td>\n",
       "      <td>South Dakota</td>\n",
       "      <td>1.0</td>\n",
       "      <td>Mexico</td>\n",
       "      <td>2.0</td>\n",
       "      <td>Soybeans</td>\n",
       "      <td>27,692</td>\n",
       "      <td>19,720</td>\n",
       "      <td>0</td>\n",
       "      <td>4,996</td>\n",
       "      <td>...</td>\n",
       "      <td>33,673</td>\n",
       "      <td>61,917</td>\n",
       "      <td>13,040</td>\n",
       "      <td>38,134</td>\n",
       "      <td>63,784</td>\n",
       "      <td>66,733</td>\n",
       "      <td>5</td>\n",
       "      <td>SD</td>\n",
       "      <td>MX</td>\n",
       "      <td>0035AT</td>\n",
       "    </tr>\n",
       "    <tr>\n",
       "      <th>2</th>\n",
       "      <td>1.0</td>\n",
       "      <td>South Dakota</td>\n",
       "      <td>1.0</td>\n",
       "      <td>Mexico</td>\n",
       "      <td>3.0</td>\n",
       "      <td>Beef &amp; Beef Products</td>\n",
       "      <td>36,842</td>\n",
       "      <td>30,714</td>\n",
       "      <td>28,830</td>\n",
       "      <td>38,108</td>\n",
       "      <td>...</td>\n",
       "      <td>40,945</td>\n",
       "      <td>40,581</td>\n",
       "      <td>40,806</td>\n",
       "      <td>39,341</td>\n",
       "      <td>47,683</td>\n",
       "      <td>31,207</td>\n",
       "      <td>-35</td>\n",
       "      <td>SD</td>\n",
       "      <td>MX</td>\n",
       "      <td>0205AT</td>\n",
       "    </tr>\n",
       "    <tr>\n",
       "      <th>3</th>\n",
       "      <td>1.0</td>\n",
       "      <td>South Dakota</td>\n",
       "      <td>1.0</td>\n",
       "      <td>Mexico</td>\n",
       "      <td>4.0</td>\n",
       "      <td>Corn</td>\n",
       "      <td>0</td>\n",
       "      <td>6,205</td>\n",
       "      <td>6,747</td>\n",
       "      <td>13,822</td>\n",
       "      <td>...</td>\n",
       "      <td>4,065</td>\n",
       "      <td>113</td>\n",
       "      <td>9,495</td>\n",
       "      <td>10,578</td>\n",
       "      <td>16,390</td>\n",
       "      <td>26,468</td>\n",
       "      <td>61</td>\n",
       "      <td>SD</td>\n",
       "      <td>MX</td>\n",
       "      <td>0020AT</td>\n",
       "    </tr>\n",
       "    <tr>\n",
       "      <th>4</th>\n",
       "      <td>1.0</td>\n",
       "      <td>South Dakota</td>\n",
       "      <td>1.0</td>\n",
       "      <td>Mexico</td>\n",
       "      <td>5.0</td>\n",
       "      <td>Wheat</td>\n",
       "      <td>12,104</td>\n",
       "      <td>5,821</td>\n",
       "      <td>5,067</td>\n",
       "      <td>9,798</td>\n",
       "      <td>...</td>\n",
       "      <td>3,550</td>\n",
       "      <td>1,542</td>\n",
       "      <td>2,217</td>\n",
       "      <td>8,551</td>\n",
       "      <td>3,815</td>\n",
       "      <td>10,609</td>\n",
       "      <td>178</td>\n",
       "      <td>SD</td>\n",
       "      <td>MX</td>\n",
       "      <td>0015AT</td>\n",
       "    </tr>\n",
       "  </tbody>\n",
       "</table>\n",
       "<p>5 rows × 21 columns</p>\n",
       "</div>"
      ],
      "text/plain": [
       "   Unnamed: 0    U.S. State  Unnamed: 2 Partner  Unnamed: 4  \\\n",
       "0         1.0  South Dakota         1.0  Mexico         1.0   \n",
       "1         1.0  South Dakota         1.0  Mexico         2.0   \n",
       "2         1.0  South Dakota         1.0  Mexico         3.0   \n",
       "3         1.0  South Dakota         1.0  Mexico         4.0   \n",
       "4         1.0  South Dakota         1.0  Mexico         5.0   \n",
       "\n",
       "                Product   Value Value.1 Value.2 Value.3  ... Value.5 Value.6  \\\n",
       "0  Pork & Pork Products  98,241  69,046  87,996  90,277  ...  37,814  45,648   \n",
       "1              Soybeans  27,692  19,720       0   4,996  ...  33,673  61,917   \n",
       "2  Beef & Beef Products  36,842  30,714  28,830  38,108  ...  40,945  40,581   \n",
       "3                  Corn       0   6,205   6,747  13,822  ...   4,065     113   \n",
       "4                 Wheat  12,104   5,821   5,067   9,798  ...   3,550   1,542   \n",
       "\n",
       "   Value.7  Value.8  Value.9 Value.10 Period/Period %  Change (Value)  \\\n",
       "0  116,982  201,825  155,258   85,610                             -45   \n",
       "1   13,040   38,134   63,784   66,733                               5   \n",
       "2   40,806   39,341   47,683   31,207                             -35   \n",
       "3    9,495   10,578   16,390   26,468                              61   \n",
       "4    2,217    8,551    3,815   10,609                             178   \n",
       "\n",
       "  Reporter Code Partner Code Product Code  \n",
       "0            SD           MX       0210AT  \n",
       "1            SD           MX       0035AT  \n",
       "2            SD           MX       0205AT  \n",
       "3            SD           MX       0020AT  \n",
       "4            SD           MX       0015AT  \n",
       "\n",
       "[5 rows x 21 columns]"
      ]
     },
     "execution_count": 5,
     "metadata": {},
     "output_type": "execute_result"
    }
   ],
   "source": [
    "df.head()"
   ]
  },
  {
   "cell_type": "code",
   "execution_count": 6,
   "id": "5c71ed62-8d3a-4a70-87f2-155ce4dec98a",
   "metadata": {},
   "outputs": [],
   "source": [
    "# Rename columns: Map \"Value\", \"Value.1\", ..., \"Value.10\" to actual years\n",
    "year_columns = {\n",
    "    'Value': '2014',\n",
    "    'Value.1': '2015',\n",
    "    'Value.2': '2016',\n",
    "    'Value.3': '2017',\n",
    "    'Value.4': '2018',\n",
    "    'Value.5': '2019',\n",
    "    'Value.6': '2020',\n",
    "    'Value.7': '2021',\n",
    "    'Value.8': '2022',\n",
    "    'Value.9': '2023',\n",
    "    'Value.10': '2024',\n",
    "}\n",
    "\n",
    "df.rename(columns=year_columns, inplace=True)"
   ]
  },
  {
   "cell_type": "code",
   "execution_count": 7,
   "id": "6bd0a87c-8814-46e2-b1d9-1f4e6d22bc28",
   "metadata": {},
   "outputs": [],
   "source": [
    "#Drop any completely unnamed or redundant columns\n",
    "df.drop(columns=[col for col in df.columns if 'Unnamed' in col], inplace=True)"
   ]
  },
  {
   "cell_type": "code",
   "execution_count": 8,
   "id": "dd66900b-c8c1-4410-bb9c-d039088075bb",
   "metadata": {},
   "outputs": [
    {
     "data": {
      "text/html": [
       "<div>\n",
       "<style scoped>\n",
       "    .dataframe tbody tr th:only-of-type {\n",
       "        vertical-align: middle;\n",
       "    }\n",
       "\n",
       "    .dataframe tbody tr th {\n",
       "        vertical-align: top;\n",
       "    }\n",
       "\n",
       "    .dataframe thead th {\n",
       "        text-align: right;\n",
       "    }\n",
       "</style>\n",
       "<table border=\"1\" class=\"dataframe\">\n",
       "  <thead>\n",
       "    <tr style=\"text-align: right;\">\n",
       "      <th></th>\n",
       "      <th>U.S. State</th>\n",
       "      <th>Partner</th>\n",
       "      <th>Product</th>\n",
       "      <th>2014</th>\n",
       "      <th>2015</th>\n",
       "      <th>2016</th>\n",
       "      <th>2017</th>\n",
       "      <th>2018</th>\n",
       "      <th>2019</th>\n",
       "      <th>2020</th>\n",
       "      <th>2021</th>\n",
       "      <th>2022</th>\n",
       "      <th>2023</th>\n",
       "      <th>2024</th>\n",
       "      <th>Period/Period %  Change (Value)</th>\n",
       "      <th>Reporter Code</th>\n",
       "      <th>Partner Code</th>\n",
       "      <th>Product Code</th>\n",
       "    </tr>\n",
       "  </thead>\n",
       "  <tbody>\n",
       "    <tr>\n",
       "      <th>0</th>\n",
       "      <td>South Dakota</td>\n",
       "      <td>Mexico</td>\n",
       "      <td>Pork &amp; Pork Products</td>\n",
       "      <td>98,241</td>\n",
       "      <td>69,046</td>\n",
       "      <td>87,996</td>\n",
       "      <td>90,277</td>\n",
       "      <td>49,591</td>\n",
       "      <td>37,814</td>\n",
       "      <td>45,648</td>\n",
       "      <td>116,982</td>\n",
       "      <td>201,825</td>\n",
       "      <td>155,258</td>\n",
       "      <td>85,610</td>\n",
       "      <td>-45</td>\n",
       "      <td>SD</td>\n",
       "      <td>MX</td>\n",
       "      <td>0210AT</td>\n",
       "    </tr>\n",
       "    <tr>\n",
       "      <th>1</th>\n",
       "      <td>South Dakota</td>\n",
       "      <td>Mexico</td>\n",
       "      <td>Soybeans</td>\n",
       "      <td>27,692</td>\n",
       "      <td>19,720</td>\n",
       "      <td>0</td>\n",
       "      <td>4,996</td>\n",
       "      <td>39,686</td>\n",
       "      <td>33,673</td>\n",
       "      <td>61,917</td>\n",
       "      <td>13,040</td>\n",
       "      <td>38,134</td>\n",
       "      <td>63,784</td>\n",
       "      <td>66,733</td>\n",
       "      <td>5</td>\n",
       "      <td>SD</td>\n",
       "      <td>MX</td>\n",
       "      <td>0035AT</td>\n",
       "    </tr>\n",
       "    <tr>\n",
       "      <th>2</th>\n",
       "      <td>South Dakota</td>\n",
       "      <td>Mexico</td>\n",
       "      <td>Beef &amp; Beef Products</td>\n",
       "      <td>36,842</td>\n",
       "      <td>30,714</td>\n",
       "      <td>28,830</td>\n",
       "      <td>38,108</td>\n",
       "      <td>42,018</td>\n",
       "      <td>40,945</td>\n",
       "      <td>40,581</td>\n",
       "      <td>40,806</td>\n",
       "      <td>39,341</td>\n",
       "      <td>47,683</td>\n",
       "      <td>31,207</td>\n",
       "      <td>-35</td>\n",
       "      <td>SD</td>\n",
       "      <td>MX</td>\n",
       "      <td>0205AT</td>\n",
       "    </tr>\n",
       "    <tr>\n",
       "      <th>3</th>\n",
       "      <td>South Dakota</td>\n",
       "      <td>Mexico</td>\n",
       "      <td>Corn</td>\n",
       "      <td>0</td>\n",
       "      <td>6,205</td>\n",
       "      <td>6,747</td>\n",
       "      <td>13,822</td>\n",
       "      <td>2,327</td>\n",
       "      <td>4,065</td>\n",
       "      <td>113</td>\n",
       "      <td>9,495</td>\n",
       "      <td>10,578</td>\n",
       "      <td>16,390</td>\n",
       "      <td>26,468</td>\n",
       "      <td>61</td>\n",
       "      <td>SD</td>\n",
       "      <td>MX</td>\n",
       "      <td>0020AT</td>\n",
       "    </tr>\n",
       "    <tr>\n",
       "      <th>4</th>\n",
       "      <td>South Dakota</td>\n",
       "      <td>Mexico</td>\n",
       "      <td>Wheat</td>\n",
       "      <td>12,104</td>\n",
       "      <td>5,821</td>\n",
       "      <td>5,067</td>\n",
       "      <td>9,798</td>\n",
       "      <td>2,127</td>\n",
       "      <td>3,550</td>\n",
       "      <td>1,542</td>\n",
       "      <td>2,217</td>\n",
       "      <td>8,551</td>\n",
       "      <td>3,815</td>\n",
       "      <td>10,609</td>\n",
       "      <td>178</td>\n",
       "      <td>SD</td>\n",
       "      <td>MX</td>\n",
       "      <td>0015AT</td>\n",
       "    </tr>\n",
       "  </tbody>\n",
       "</table>\n",
       "</div>"
      ],
      "text/plain": [
       "     U.S. State Partner               Product    2014    2015    2016    2017  \\\n",
       "0  South Dakota  Mexico  Pork & Pork Products  98,241  69,046  87,996  90,277   \n",
       "1  South Dakota  Mexico              Soybeans  27,692  19,720       0   4,996   \n",
       "2  South Dakota  Mexico  Beef & Beef Products  36,842  30,714  28,830  38,108   \n",
       "3  South Dakota  Mexico                  Corn       0   6,205   6,747  13,822   \n",
       "4  South Dakota  Mexico                 Wheat  12,104   5,821   5,067   9,798   \n",
       "\n",
       "     2018    2019    2020     2021     2022     2023    2024  \\\n",
       "0  49,591  37,814  45,648  116,982  201,825  155,258  85,610   \n",
       "1  39,686  33,673  61,917   13,040   38,134   63,784  66,733   \n",
       "2  42,018  40,945  40,581   40,806   39,341   47,683  31,207   \n",
       "3   2,327   4,065     113    9,495   10,578   16,390  26,468   \n",
       "4   2,127   3,550   1,542    2,217    8,551    3,815  10,609   \n",
       "\n",
       "  Period/Period %  Change (Value) Reporter Code Partner Code Product Code  \n",
       "0                             -45            SD           MX       0210AT  \n",
       "1                               5            SD           MX       0035AT  \n",
       "2                             -35            SD           MX       0205AT  \n",
       "3                              61            SD           MX       0020AT  \n",
       "4                             178            SD           MX       0015AT  "
      ]
     },
     "execution_count": 8,
     "metadata": {},
     "output_type": "execute_result"
    }
   ],
   "source": [
    "df.head()"
   ]
  },
  {
   "cell_type": "code",
   "execution_count": 9,
   "id": "25ef2978-7687-4e90-87d9-a8a7909a0368",
   "metadata": {},
   "outputs": [],
   "source": [
    "# Check for and drop duplicate rows\n",
    "df.drop_duplicates(inplace=True)\n"
   ]
  },
  {
   "cell_type": "code",
   "execution_count": 10,
   "id": "490dffa0-1523-4102-9732-40ac892932f8",
   "metadata": {},
   "outputs": [],
   "source": [
    "# Save cleaned dataset\n",
    "df.to_csv(\"cleaned_south_dakota_exports.csv\", index=False)"
   ]
  },
  {
   "cell_type": "code",
   "execution_count": 11,
   "id": "47febbb6-bf87-43c6-b4fa-7408018b8fac",
   "metadata": {},
   "outputs": [
    {
     "name": "stdout",
     "output_type": "stream",
     "text": [
      "✅ Cleaned dataset saved as 'cleaned_south_dakota_exports.csv'\n"
     ]
    }
   ],
   "source": [
    "print(\"✅ Cleaned dataset saved as 'cleaned_south_dakota_exports.csv'\")"
   ]
  },
  {
   "cell_type": "markdown",
   "id": "1879acd9-b84b-41d3-956a-790d10e21e56",
   "metadata": {},
   "source": [
    "### EDA"
   ]
  },
  {
   "cell_type": "code",
   "execution_count": 12,
   "id": "4b54e041-b96b-46c1-b8f8-929e846ee821",
   "metadata": {},
   "outputs": [
    {
     "data": {
      "text/html": [
       "<div>\n",
       "<style scoped>\n",
       "    .dataframe tbody tr th:only-of-type {\n",
       "        vertical-align: middle;\n",
       "    }\n",
       "\n",
       "    .dataframe tbody tr th {\n",
       "        vertical-align: top;\n",
       "    }\n",
       "\n",
       "    .dataframe thead th {\n",
       "        text-align: right;\n",
       "    }\n",
       "</style>\n",
       "<table border=\"1\" class=\"dataframe\">\n",
       "  <thead>\n",
       "    <tr style=\"text-align: right;\">\n",
       "      <th></th>\n",
       "      <th>U.S. State</th>\n",
       "      <th>Partner</th>\n",
       "      <th>Product</th>\n",
       "      <th>2014</th>\n",
       "      <th>2015</th>\n",
       "      <th>2016</th>\n",
       "      <th>2017</th>\n",
       "      <th>2018</th>\n",
       "      <th>2019</th>\n",
       "      <th>2020</th>\n",
       "      <th>2021</th>\n",
       "      <th>2022</th>\n",
       "      <th>2023</th>\n",
       "      <th>2024</th>\n",
       "      <th>Period/Period %  Change (Value)</th>\n",
       "      <th>Reporter Code</th>\n",
       "      <th>Partner Code</th>\n",
       "      <th>Product Code</th>\n",
       "    </tr>\n",
       "  </thead>\n",
       "  <tbody>\n",
       "    <tr>\n",
       "      <th>0</th>\n",
       "      <td>South Dakota</td>\n",
       "      <td>Mexico</td>\n",
       "      <td>Pork &amp; Pork Products</td>\n",
       "      <td>98,241</td>\n",
       "      <td>69,046</td>\n",
       "      <td>87,996</td>\n",
       "      <td>90,277</td>\n",
       "      <td>49,591</td>\n",
       "      <td>37,814</td>\n",
       "      <td>45,648</td>\n",
       "      <td>116,982</td>\n",
       "      <td>201,825</td>\n",
       "      <td>155,258</td>\n",
       "      <td>85,610</td>\n",
       "      <td>-45</td>\n",
       "      <td>SD</td>\n",
       "      <td>MX</td>\n",
       "      <td>0210AT</td>\n",
       "    </tr>\n",
       "    <tr>\n",
       "      <th>1</th>\n",
       "      <td>South Dakota</td>\n",
       "      <td>Mexico</td>\n",
       "      <td>Soybeans</td>\n",
       "      <td>27,692</td>\n",
       "      <td>19,720</td>\n",
       "      <td>0</td>\n",
       "      <td>4,996</td>\n",
       "      <td>39,686</td>\n",
       "      <td>33,673</td>\n",
       "      <td>61,917</td>\n",
       "      <td>13,040</td>\n",
       "      <td>38,134</td>\n",
       "      <td>63,784</td>\n",
       "      <td>66,733</td>\n",
       "      <td>5</td>\n",
       "      <td>SD</td>\n",
       "      <td>MX</td>\n",
       "      <td>0035AT</td>\n",
       "    </tr>\n",
       "    <tr>\n",
       "      <th>2</th>\n",
       "      <td>South Dakota</td>\n",
       "      <td>Mexico</td>\n",
       "      <td>Beef &amp; Beef Products</td>\n",
       "      <td>36,842</td>\n",
       "      <td>30,714</td>\n",
       "      <td>28,830</td>\n",
       "      <td>38,108</td>\n",
       "      <td>42,018</td>\n",
       "      <td>40,945</td>\n",
       "      <td>40,581</td>\n",
       "      <td>40,806</td>\n",
       "      <td>39,341</td>\n",
       "      <td>47,683</td>\n",
       "      <td>31,207</td>\n",
       "      <td>-35</td>\n",
       "      <td>SD</td>\n",
       "      <td>MX</td>\n",
       "      <td>0205AT</td>\n",
       "    </tr>\n",
       "    <tr>\n",
       "      <th>3</th>\n",
       "      <td>South Dakota</td>\n",
       "      <td>Mexico</td>\n",
       "      <td>Corn</td>\n",
       "      <td>0</td>\n",
       "      <td>6,205</td>\n",
       "      <td>6,747</td>\n",
       "      <td>13,822</td>\n",
       "      <td>2,327</td>\n",
       "      <td>4,065</td>\n",
       "      <td>113</td>\n",
       "      <td>9,495</td>\n",
       "      <td>10,578</td>\n",
       "      <td>16,390</td>\n",
       "      <td>26,468</td>\n",
       "      <td>61</td>\n",
       "      <td>SD</td>\n",
       "      <td>MX</td>\n",
       "      <td>0020AT</td>\n",
       "    </tr>\n",
       "    <tr>\n",
       "      <th>4</th>\n",
       "      <td>South Dakota</td>\n",
       "      <td>Mexico</td>\n",
       "      <td>Wheat</td>\n",
       "      <td>12,104</td>\n",
       "      <td>5,821</td>\n",
       "      <td>5,067</td>\n",
       "      <td>9,798</td>\n",
       "      <td>2,127</td>\n",
       "      <td>3,550</td>\n",
       "      <td>1,542</td>\n",
       "      <td>2,217</td>\n",
       "      <td>8,551</td>\n",
       "      <td>3,815</td>\n",
       "      <td>10,609</td>\n",
       "      <td>178</td>\n",
       "      <td>SD</td>\n",
       "      <td>MX</td>\n",
       "      <td>0015AT</td>\n",
       "    </tr>\n",
       "  </tbody>\n",
       "</table>\n",
       "</div>"
      ],
      "text/plain": [
       "     U.S. State Partner               Product    2014    2015    2016    2017  \\\n",
       "0  South Dakota  Mexico  Pork & Pork Products  98,241  69,046  87,996  90,277   \n",
       "1  South Dakota  Mexico              Soybeans  27,692  19,720       0   4,996   \n",
       "2  South Dakota  Mexico  Beef & Beef Products  36,842  30,714  28,830  38,108   \n",
       "3  South Dakota  Mexico                  Corn       0   6,205   6,747  13,822   \n",
       "4  South Dakota  Mexico                 Wheat  12,104   5,821   5,067   9,798   \n",
       "\n",
       "     2018    2019    2020     2021     2022     2023    2024  \\\n",
       "0  49,591  37,814  45,648  116,982  201,825  155,258  85,610   \n",
       "1  39,686  33,673  61,917   13,040   38,134   63,784  66,733   \n",
       "2  42,018  40,945  40,581   40,806   39,341   47,683  31,207   \n",
       "3   2,327   4,065     113    9,495   10,578   16,390  26,468   \n",
       "4   2,127   3,550   1,542    2,217    8,551    3,815  10,609   \n",
       "\n",
       "  Period/Period %  Change (Value) Reporter Code Partner Code Product Code  \n",
       "0                             -45            SD           MX       0210AT  \n",
       "1                               5            SD           MX       0035AT  \n",
       "2                             -35            SD           MX       0205AT  \n",
       "3                              61            SD           MX       0020AT  \n",
       "4                             178            SD           MX       0015AT  "
      ]
     },
     "execution_count": 12,
     "metadata": {},
     "output_type": "execute_result"
    }
   ],
   "source": [
    "df1 = pd.read_csv('cleaned_south_dakota_exports.csv')\n",
    "df1.head()"
   ]
  },
  {
   "cell_type": "code",
   "execution_count": 13,
   "id": "33d10e34-9a3a-4076-8411-660f3c687c88",
   "metadata": {},
   "outputs": [
    {
     "name": "stdout",
     "output_type": "stream",
     "text": [
      "['U.S. State', 'Partner', 'Product', '2014', '2015', '2016', '2017', '2018', '2019', '2020', '2021', '2022', '2023', '2024', 'Period/Period %  Change (Value)', 'Reporter Code', 'Partner Code', 'Product Code']\n"
     ]
    }
   ],
   "source": [
    "print(df1.columns.tolist())"
   ]
  },
  {
   "cell_type": "code",
   "execution_count": 14,
   "id": "111e396d-7579-49af-87ee-c67a5210b9f4",
   "metadata": {},
   "outputs": [
    {
     "name": "stdout",
     "output_type": "stream",
     "text": [
      "🔍 Dataset Summary:\n",
      "<class 'pandas.core.frame.DataFrame'>\n",
      "RangeIndex: 161 entries, 0 to 160\n",
      "Data columns (total 18 columns):\n",
      " #   Column                           Non-Null Count  Dtype \n",
      "---  ------                           --------------  ----- \n",
      " 0   U.S. State                       161 non-null    object\n",
      " 1   Partner                          160 non-null    object\n",
      " 2   Product                          160 non-null    object\n",
      " 3   2014                             161 non-null    object\n",
      " 4   2015                             161 non-null    object\n",
      " 5   2016                             161 non-null    object\n",
      " 6   2017                             161 non-null    object\n",
      " 7   2018                             161 non-null    object\n",
      " 8   2019                             161 non-null    object\n",
      " 9   2020                             161 non-null    object\n",
      " 10  2021                             161 non-null    object\n",
      " 11  2022                             161 non-null    object\n",
      " 12  2023                             161 non-null    object\n",
      " 13  2024                             161 non-null    object\n",
      " 14  Period/Period %  Change (Value)  62 non-null     object\n",
      " 15  Reporter Code                    160 non-null    object\n",
      " 16  Partner Code                     160 non-null    object\n",
      " 17  Product Code                     160 non-null    object\n",
      "dtypes: object(18)\n",
      "memory usage: 22.8+ KB\n",
      "None\n"
     ]
    }
   ],
   "source": [
    "# Display basic info\n",
    "print(\"🔍 Dataset Summary:\")\n",
    "print(df1.info())"
   ]
  },
  {
   "cell_type": "code",
   "execution_count": 15,
   "id": "ee735a5e-ad2b-4902-9542-1a11ed7744b3",
   "metadata": {},
   "outputs": [
    {
     "name": "stdout",
     "output_type": "stream",
     "text": [
      "\n",
      "❓ Missing Values:\n",
      "U.S. State                          0\n",
      "Partner                             1\n",
      "Product                             1\n",
      "2014                                0\n",
      "2015                                0\n",
      "2016                                0\n",
      "2017                                0\n",
      "2018                                0\n",
      "2019                                0\n",
      "2020                                0\n",
      "2021                                0\n",
      "2022                                0\n",
      "2023                                0\n",
      "2024                                0\n",
      "Period/Period %  Change (Value)    99\n",
      "Reporter Code                       1\n",
      "Partner Code                        1\n",
      "Product Code                        1\n",
      "dtype: int64\n"
     ]
    }
   ],
   "source": [
    "# Check for missing values\n",
    "print(\"\\n❓ Missing Values:\")\n",
    "print(df1.isnull().sum())\n"
   ]
  },
  {
   "cell_type": "code",
   "execution_count": 16,
   "id": "769c0a51-d79c-4e4e-a61e-ff2bab6232d4",
   "metadata": {},
   "outputs": [
    {
     "name": "stdout",
     "output_type": "stream",
     "text": [
      "\n",
      "📌 Unique Products:\n",
      "['Pork & Pork Products' 'Soybeans' 'Beef & Beef Products' 'Corn' 'Wheat'\n",
      " 'Dairy Products' 'Soybean meal' 'Soybean Oil' 'Hay' nan]\n"
     ]
    }
   ],
   "source": [
    "# Check unique values in key columns\n",
    "print(\"\\n📌 Unique Products:\")\n",
    "print(df1['Product'].unique())"
   ]
  },
  {
   "cell_type": "code",
   "execution_count": 17,
   "id": "5dc27d3c-b0d5-4305-ab9a-5d64e22ae8c4",
   "metadata": {},
   "outputs": [],
   "source": [
    "# Convert year columns to numeric\n",
    "year_cols = [str(year) for year in range(2014, 2025)]\n",
    "df1[year_cols] = df1[year_cols].replace(',', '', regex=True).apply(pd.to_numeric, errors='coerce')"
   ]
  },
  {
   "cell_type": "code",
   "execution_count": 18,
   "id": "ffe81aee-2e97-4309-ac44-cb61502a9203",
   "metadata": {},
   "outputs": [
    {
     "name": "stdout",
     "output_type": "stream",
     "text": [
      "\n",
      "📈 Descriptive Statistics:\n",
      "                2014           2015           2016           2017  \\\n",
      "count     161.000000     161.000000     161.000000     161.000000   \n",
      "mean     6215.279503    4913.167702    4781.111801    4789.645963   \n",
      "std     41650.601046   32735.024085   32023.259556   32202.973715   \n",
      "min         0.000000       0.000000       0.000000       0.000000   \n",
      "25%         0.000000       0.000000       0.000000       0.000000   \n",
      "50%         0.000000       0.000000       0.000000       0.000000   \n",
      "75%       168.000000     114.000000     295.000000     126.000000   \n",
      "max    500328.000000  395510.000000  384880.000000  385566.000000   \n",
      "\n",
      "                2018           2019           2020           2021  \\\n",
      "count     161.000000     161.000000     161.000000     161.000000   \n",
      "mean     4808.186335    4840.552795    6130.776398    7999.919255   \n",
      "std     31903.479824   31908.887878   40442.992733   52801.435089   \n",
      "min         0.000000       0.000000       0.000000       0.000000   \n",
      "25%         0.000000       0.000000       0.000000       0.000000   \n",
      "50%         0.000000       0.000000       0.000000       0.000000   \n",
      "75%       225.000000     149.000000     226.000000     580.000000   \n",
      "max    387061.000000  389666.000000  493530.000000  643993.000000   \n",
      "\n",
      "                2022           2023           2024  \n",
      "count     161.000000     161.000000     161.000000  \n",
      "mean    10132.857143    9240.838509    7778.987578  \n",
      "std     67193.924843   61139.380584   50840.470121  \n",
      "min         0.000000       0.000000       0.000000  \n",
      "25%         0.000000       0.000000       0.000000  \n",
      "50%         0.000000       6.000000       0.000000  \n",
      "75%       825.000000     731.000000     412.000000  \n",
      "max    815694.000000  743886.000000  626208.000000  \n"
     ]
    }
   ],
   "source": [
    "# Check descriptive statistics\n",
    "print(\"\\n📈 Descriptive Statistics:\")\n",
    "print(df1[year_cols].describe())"
   ]
  },
  {
   "cell_type": "code",
   "execution_count": 19,
   "id": "9b34fadb-c06d-4cdc-9870-deb348bc15b3",
   "metadata": {},
   "outputs": [
    {
     "data": {
      "text/plain": [
       "<Figure size 1400x700 with 0 Axes>"
      ]
     },
     "execution_count": 19,
     "metadata": {},
     "output_type": "execute_result"
    },
    {
     "data": {
      "text/plain": [
       "<Figure size 1400x700 with 0 Axes>"
      ]
     },
     "metadata": {},
     "output_type": "display_data"
    }
   ],
   "source": [
    "# Plot export trends for each major product\n",
    "top_products = df1['Product'].value_counts().index[:5]  # You can change the number here\n",
    "plt.figure(figsize=(14, 7))"
   ]
  },
  {
   "cell_type": "code",
   "execution_count": 20,
   "id": "3895b61a-8857-44e4-9526-b4bdef23c367",
   "metadata": {},
   "outputs": [
    {
     "data": {
      "image/png": "[encoded data removed]",
      "text/plain": [
       "<Figure size 640x480 with 1 Axes>"
      ]
     },
     "metadata": {},
     "output_type": "display_data"
    }
   ],
   "source": [
    "for product in top_products:\n",
    "    product_data = df1[df1['Product'] == product][year_cols].sum()\n",
    "    plt.plot(year_cols, product_data, marker='o', label=product)\n",
    "\n",
    "plt.title(\"📦 South Dakota Export Trends by Product (2014–2024)\")\n",
    "plt.xlabel(\"Year\")\n",
    "plt.ylabel(\"Export Value (USD)\")\n",
    "plt.xticks(rotation=45)\n",
    "plt.grid(True)\n",
    "plt.legend()\n",
    "plt.tight_layout()\n",
    "plt.show()"
   ]
  },
  {
   "cell_type": "code",
   "execution_count": 21,
   "id": "688cc8c2-1e93-4970-8513-fbccfe139bb0",
   "metadata": {},
   "outputs": [
    {
     "data": {
      "image/png": "[encoded data removed]",
      "text/plain": [
       "<Figure size 1600x1000 with 2 Axes>"
      ]
     },
     "metadata": {},
     "output_type": "display_data"
    }
   ],
   "source": [
    "# Heatmap of export values per year\n",
    "pivot = df1.pivot_table(index='Product', values=year_cols, aggfunc='sum')\n",
    "plt.figure(figsize=(16, 10))\n",
    "sns.heatmap(pivot, cmap=\"YlGnBu\", annot=False, linewidths=.5)\n",
    "plt.title(\"🌡️ Heatmap of Product Export Value Over Years\")\n",
    "plt.xlabel(\"Year\")\n",
    "plt.ylabel(\"Product\")\n",
    "plt.show()"
   ]
  },
  {
   "cell_type": "markdown",
   "id": "863696ac-0b7b-4967-a5ca-2ff765889364",
   "metadata": {},
   "source": [
    "## 🧪 Step-by-Step Code: Split & Train"
   ]
  },
  {
   "cell_type": "code",
   "execution_count": 22,
   "id": "79537323-235a-4871-9352-a3401dba73fb",
   "metadata": {},
   "outputs": [],
   "source": [
    "# Step 1: Strip whitespace from column names\n",
    "df.columns = df1.columns.str.strip()\n"
   ]
  },
  {
   "cell_type": "code",
   "execution_count": 23,
   "id": "6689b230-c6c2-42ad-a6d8-e8d19d89d19d",
   "metadata": {},
   "outputs": [],
   "source": [
    "# Step 2: Melt year columns into long format\n",
    "year_cols = [col for col in df.columns if col.isdigit()]\n",
    "df_melted = df1.melt(id_vars=['U.S. State', 'Partner', 'Product'], \n",
    "                    value_vars=year_cols, \n",
    "                    var_name='Year', value_name='Export_Value')\n"
   ]
  },
  {
   "cell_type": "code",
   "execution_count": null,
   "id": "acf6d0e0-ca4d-44fb-8669-9f6f30d0c202",
   "metadata": {},
   "outputs": [],
   "source": []
  },
  {
   "cell_type": "code",
   "execution_count": 24,
   "id": "4356c0aa-8340-4172-9d67-074ed3ba0d1e",
   "metadata": {},
   "outputs": [],
   "source": [
    "# Step 3: Convert Year to datetime\n",
    "df_melted['Year'] = pd.to_datetime(df_melted['Year'], format='%Y')\n"
   ]
  },
  {
   "cell_type": "code",
   "execution_count": 25,
   "id": "48695aca-ecec-4f6b-97a8-c64e428e3188",
   "metadata": {},
   "outputs": [],
   "source": [
    "# Step 4: Aggregate (optional, total export per year)\n",
    "df_prophet = df_melted.groupby('Year')['Export_Value'].sum().reset_index()"
   ]
  },
  {
   "cell_type": "code",
   "execution_count": 26,
   "id": "2715e19d-cc94-4493-929e-d5f0d4915aac",
   "metadata": {},
   "outputs": [],
   "source": [
    "# Step 5: Rename columns for Prophet\n",
    "df_prophet = df_prophet.rename(columns={'Year': 'ds', 'Export_Value': 'y'})"
   ]
  },
  {
   "cell_type": "code",
   "execution_count": 28,
   "id": "9a9b501e-fc82-435c-bc02-3c90d805f8bf",
   "metadata": {},
   "outputs": [
    {
     "name": "stdout",
     "output_type": "stream",
     "text": [
      "           ds        y\n",
      "0  2014-01-01  1000660\n",
      "1  2015-01-01   791020\n",
      "2  2016-01-01   769759\n",
      "3  2017-01-01   771133\n",
      "4  2018-01-01   774118\n",
      "5  2019-01-01   779329\n",
      "6  2020-01-01   987055\n",
      "7  2021-01-01  1287987\n",
      "8  2022-01-01  1631390\n",
      "9  2023-01-01  1487775\n",
      "10 2024-01-01  1252417\n"
     ]
    }
   ],
   "source": [
    "# Final structure: Prophet-ready\n",
    "print(df_prophet.head(30))"
   ]
  },
  {
   "cell_type": "code",
   "execution_count": 200,
   "id": "fe45822f-bef8-4412-a414-aca88fd529d6",
   "metadata": {},
   "outputs": [
    {
     "name": "stdout",
     "output_type": "stream",
     "text": [
      "Index(['ds', 'y'], dtype='object')\n"
     ]
    }
   ],
   "source": [
    "print(df_prophet.columns)\n"
   ]
  },
  {
   "cell_type": "markdown",
   "id": "0157576c-ae75-4016-b3dd-70b844fecea5",
   "metadata": {},
   "source": [
    "### Split: Train "
   ]
  },
  {
   "cell_type": "code",
   "execution_count": 201,
   "id": "de0fc8fa-dfde-4f1a-aa8c-b0789629ba74",
   "metadata": {},
   "outputs": [],
   "source": [
    "# Split: Train up to 2022, forecast beyond\n",
    "train = df_prophet[df_prophet['ds'].dt.year <= 2022]\n",
    "test = df_prophet[df_prophet['ds'].dt.year > 2022]"
   ]
  },
  {
   "cell_type": "code",
   "execution_count": 179,
   "id": "63424c00-ac98-4ab0-8627-4e3b94098629",
   "metadata": {},
   "outputs": [
    {
     "name": "stdout",
     "output_type": "stream",
     "text": [
      "ds    datetime64[ns]\n",
      "y              int64\n",
      "dtype: object\n",
      "          ds        y\n",
      "0 2014-01-01  1000660\n",
      "1 2015-01-01   791020\n",
      "2 2016-01-01   769759\n",
      "3 2017-01-01   771133\n",
      "4 2018-01-01   774118\n"
     ]
    }
   ],
   "source": [
    "print(df_prophet.dtypes)\n",
    "print(df_prophet.head())\n"
   ]
  },
  {
   "cell_type": "code",
   "execution_count": 180,
   "id": "ec97eb45-78b5-4a20-9d38-5eb517854635",
   "metadata": {},
   "outputs": [
    {
     "name": "stdout",
     "output_type": "stream",
     "text": [
      "(11, 2)\n",
      "          ds        y\n",
      "0 2014-01-01  1000660\n",
      "1 2015-01-01   791020\n",
      "2 2016-01-01   769759\n",
      "3 2017-01-01   771133\n",
      "4 2018-01-01   774118\n",
      "5 2019-01-01   779329\n",
      "6 2020-01-01   987055\n",
      "7 2021-01-01  1287987\n",
      "8 2022-01-01  1631390\n",
      "9 2023-01-01  1487775\n",
      "                                  ds             y\n",
      "count                             11  1.100000e+01\n",
      "mean   2019-01-01 02:10:54.545454592  1.048422e+06\n",
      "min              2014-01-01 00:00:00  7.697590e+05\n",
      "25%              2016-07-02 00:00:00  7.767235e+05\n",
      "50%              2019-01-01 00:00:00  9.870550e+05\n",
      "75%              2021-07-02 12:00:00  1.270202e+06\n",
      "max              2024-01-01 00:00:00  1.631390e+06\n",
      "std                              NaN  3.172360e+05\n"
     ]
    }
   ],
   "source": [
    "print(df_prophet.shape)\n",
    "print(df_prophet.head(10))\n",
    "print(df_prophet.describe())"
   ]
  },
  {
   "cell_type": "code",
   "execution_count": 204,
   "id": "3141255c-deb0-4821-b2b9-96a44a152a61",
   "metadata": {},
   "outputs": [
    {
     "data": {
      "image/png": "[encoded data removed]",
      "text/plain": [
       "<Figure size 1200x600 with 1 Axes>"
      ]
     },
     "metadata": {},
     "output_type": "display_data"
    }
   ],
   "source": [
    "plt.figure(figsize=(12, 6))\n",
    "plt.plot(df_prophet['ds'], df_prophet['y'], marker='o')\n",
    "plt.title(\"📦 South Dakota Export Value Over Time\")\n",
    "plt.xlabel(\"Year\")\n",
    "plt.ylabel(\"Total Export Value\")\n",
    "plt.grid(True)\n",
    "plt.show()\n"
   ]
  },
  {
   "cell_type": "code",
   "execution_count": 205,
   "id": "148a8add-282a-4e10-8326-983a6e39765c",
   "metadata": {},
   "outputs": [],
   "source": [
    "#📍 Forecast into the future (up to last date in test set)\n",
    "# ---------------------------------------\n",
    "future = model.make_future_dataframe(periods=len(test), freq='Y')\n",
    "forecast = model.predict(future)"
   ]
  },
  {
   "cell_type": "code",
   "execution_count": 206,
   "id": "f0ca9f83-7de1-4be9-9733-f2d241eec8c1",
   "metadata": {},
   "outputs": [],
   "source": [
    "# 📍 Merge actual and predicted values\n",
    "# ---------------------------------------\n",
    "# Only keep forecasted years in test set\n",
    "forecast_test = forecast[forecast['ds'].isin(test['ds'])]\n",
    "merged = test.merge(forecast_test[['ds', 'yhat']], on='ds')"
   ]
  },
  {
   "cell_type": "code",
   "execution_count": 207,
   "id": "45146d10-9627-45b1-b0e0-4b75d1ce9e1f",
   "metadata": {},
   "outputs": [],
   "source": [
    "# Remove commas and convert to numeric\n",
    "df_prophet['y'] = df_prophet['y'].astype(str).str.replace(',', '').astype(float)\n"
   ]
  },
  {
   "cell_type": "code",
   "execution_count": 208,
   "id": "38180fd4-8cf8-43f5-9188-86ae7fcb5c14",
   "metadata": {},
   "outputs": [
    {
     "name": "stderr",
     "output_type": "stream",
     "text": [
      "17:39:05 - cmdstanpy - INFO - Chain [1] start processing\n",
      "17:39:05 - cmdstanpy - INFO - Chain [1] done processing\n"
     ]
    },
    {
     "name": "stdout",
     "output_type": "stream",
     "text": [
      "MAE: 155298.04\n",
      "RMSE: 188193.33\n"
     ]
    }
   ],
   "source": [
    "# Clean the y column\n",
    "df_prophet['y'] = df_prophet['y'].astype(str).str.replace(',', '').astype(float)\n",
    "\n",
    "# Fit the model\n",
    "from prophet import Prophet\n",
    "model = Prophet()\n",
    "model.fit(df_prophet)\n",
    "\n",
    "# Make future dataframe and forecast\n",
    "future = model.make_future_dataframe(periods=30)  # adjust periods as needed\n",
    "forecast = model.predict(future)\n",
    "\n",
    "# Merge actual and predicted values\n",
    "df_eval = df_prophet.merge(forecast[['ds', 'yhat']], on='ds', how='left')\n",
    "\n",
    "# Calculate MAE and RMSE\n",
    "from sklearn.metrics import mean_absolute_error, mean_squared_error\n",
    "\n",
    "mae = mean_absolute_error(df_eval['y'], df_eval['yhat'])\n",
    "rmse = mean_squared_error(df_eval['y'], df_eval['yhat']) ** 0.5  # Manual RMSE\n",
    "\n",
    "print(f\"MAE: {mae:.2f}\")\n",
    "print(f\"RMSE: {rmse:.2f}\")\n"
   ]
  },
  {
   "cell_type": "code",
   "execution_count": null,
   "id": "dbcf647b-6c11-4e9f-9cfa-56c87ad5511f",
   "metadata": {},
   "outputs": [],
   "source": []
  },
  {
   "cell_type": "code",
   "execution_count": 209,
   "id": "ab271861-0d4b-4958-9b86-cc8a82ca5720",
   "metadata": {},
   "outputs": [
    {
     "data": {
      "image/png": "[encoded data removed]",
      "text/plain": [
       "<Figure size 1000x600 with 1 Axes>"
      ]
     },
     "execution_count": 209,
     "metadata": {},
     "output_type": "execute_result"
    },
    {
     "data": {
      "image/png": "[encoded data removed]",
      "text/plain": [
       "<Figure size 1000x600 with 1 Axes>"
      ]
     },
     "metadata": {},
     "output_type": "display_data"
    }
   ],
   "source": [
    "model.plot(forecast)\n"
   ]
  },
  {
   "cell_type": "code",
   "execution_count": null,
   "id": "05cfc374-4e73-4240-bfbd-4d5fd4b42990",
   "metadata": {},
   "outputs": [],
   "source": []
  }
 ],
 "metadata": {
  "kernelspec": {
   "display_name": "Python 3 (ipykernel)",
   "language": "python",
   "name": "python3"
  },
  "language_info": {
   "codemirror_mode": {
    "name": "ipython",
    "version": 3
   },
   "file_extension": ".py",
   "mimetype": "text/x-python",
   "name": "python",
   "nbconvert_exporter": "python",
   "pygments_lexer": "ipython3",
   "version": "3.12.1"
  }
 },
 "nbformat": 4,
 "nbformat_minor": 5
}
